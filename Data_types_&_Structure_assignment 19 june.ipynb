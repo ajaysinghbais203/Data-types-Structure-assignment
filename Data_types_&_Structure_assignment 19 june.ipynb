{
  "nbformat": 4,
  "nbformat_minor": 0,
  "metadata": {
    "colab": {
      "provenance": []
    },
    "kernelspec": {
      "name": "python3",
      "display_name": "Python 3"
    },
    "language_info": {
      "name": "python"
    }
  },
  "cells": [
    {
      "cell_type": "markdown",
      "source": [
        "# Data Types and Structures Questions\n",
        "\n"
      ],
      "metadata": {
        "id": "FeIfUNgj3Or5"
      }
    },
    {
      "cell_type": "markdown",
      "source": [
        "1. What are data structures, and why are they important?\n",
        " - Data structures are the way of organizing and storing the data so that it\n",
        "can be accessed and modified efficiently. eg, Tuple, String, List, Dictionary, array etc.\n",
        " - They are important because they are crucial for efficient data management and algorithm implementation, impacting the performance and scalability of software applications.\n",
        "\n",
        "2. Explain the difference between mutable and immutable data types with examples?\n",
        "  - Mutable data types are the type of data type which can be changed after its creation. eg, lists, dictionary, etc.\n",
        " eg: list=[1,2,3] list[0]=4 #here now the original list[1,2,3] after list[0]=4 has become list[4,2,3]\n",
        " - Immutable data types are the type of data type which cannot be changed after its creation. eg, Tuple, String\n",
        "eg, my_tuple = (1, 2, 3)\n",
        "my_tuple[0] = 4 # (This will raise a TypeError)\n",
        "\n",
        "3. What are the main differences between lists and tuples in Python?\n",
        "- Main Differences Between Lists and Tuples in Python:\n",
        " - Lists are mutable, tuples are immutable.\n",
        " - Tuples are generally faster than lists due to their immutability.\n",
        " - Tuples use less memory compared to lists\n",
        "\n",
        "4. Describe how dictionaries store data?\n",
        "  - Dictionaries store data in key-value pairs. Each key is hashed to a unique index in an array where the corresponding value is stored.\n",
        " - eg, dict = {'name': 'Ajay', 'age': 29}\n",
        "here name is key while Ajay is value of key.\n",
        "\n",
        "5. Why might you use a set instead of a list in Python?\n",
        " - Sets autimatically removes duplicate values while List don't do that.\n",
        " - Also sets provides faster membership tests compared to lists.\n",
        "\n",
        "6. What is a string in Python, and how is it different from a list?\n",
        " - String is the sequence of characters which is immutable in nature and it contains only string data types and no other data types.\n",
        " - While in other hand Lists are collection of items and is mutable data structure which can contains multiple data types.\n",
        "\n",
        "7. How do tuples ensure data integrity in Python?\n",
        " - Since tuples are immutable in nature thats why, Once created, the elements of a tuple cannot be changed, ensuring that the data remains constant.\n",
        "\n",
        "8. What is a hash table, and how does it relate to dictionaries in Python?\n",
        " - Hash Table: A data structure that maps keys to values using a hash function to compute an index into an array of buckets or slots.\n",
        "Relation to Dictionaries: Python dictionaries are implemented using hash tables.\n",
        "\n",
        "9. Can lists contain different data types in Python?\n",
        " - Yes: Lists can contain elements of different data types, such as integers, strings, and even other lists.\n",
        " - eg, mylist=[1,'Ajay',3.5]\n",
        "\n",
        "10. Explain why strings are immutable in Python?\n",
        " - Immutability helps with performance optimization, memory efficiency, and thread safety. It also allows strings to be used as keys in dictionaries.\n",
        "\n",
        "11. What advantages do dictionaries offer over lists for certain tasks?\n",
        " - Key-Value Mapping: Efficient for lookups, insertions, and deletions based on keys.\n",
        " - Example: Storing user information where quick access to user details by username is needed.\n",
        "\n",
        "12. Describe a scenario where using a tuple would be preferable over a list.\n",
        " - Storing coordinates of a point (x, y) where the values should not change.\n",
        "\n",
        "13. How do sets handle duplicate values in Python?\n",
        " - Python set data structures inherently do not allow duplicate values. When we attempt to add duplicate values to a set, or when we create a set from an iterable that contains duplicates, the set will automatically discard the duplicates, storing only one instance of each unique element.\n",
        "\n",
        "14. How does the “in” keyword work differently for lists and dictionaries?\n",
        " - In List \"in\" Checks for the presence of a value as an element.\n",
        " - In Dictionary \"in\" checks for the presence of a key.\n",
        "\n",
        "15. Can you modify the elements of a tuple? Explain why or why not?\n",
        " - Since Tuples data structure is immutable, meaning we cannot modify the elements of tuples once its created.\n",
        "\n",
        "16. What is a nested dictionary, and give an example of its use case?\n",
        " - A nested dictionary is the dictionary within another dictionary.\n",
        "nested_dict = {'user1': {'name': 'Ajay', 'age': 29}, 'user2': {'name': 'Golu', 'age': 22}}\n",
        "\n",
        "17. Describe the time complexity of accessing elements in a dictionary.\n",
        " - The time complexity of accessing elements in a Python dictionary (ie., looking up a value using its key) is, on average, O(1) (constant time).\n",
        "\n",
        "18. In what situations are lists preferred over dictionaries?\n",
        " - When data naturally fits a sequence, where order and positional access are important, and duplicates are acceptable, a list is the preffered choice.\n",
        "\n",
        "19. Why are dictionaries considered unordered, and how does that affect data retrieval?\n",
        " - Dictionaries are designed for fast, direct access to values when we have the unique key.\n",
        " Their \"unordered\" nature means we trade index-based access for extremely efficient key-based retrieval, making them ideal for mapping and lookup tasks.\n",
        "We cannot retrieve items using integer indices like my_dict[0]. We must know the exact key to retrieve its associated value.\n",
        " - Data retrieval is inherently driven by the key. If we don't know the key, we have to iterate through the dictionary's keys or values to find what we're looking for, which is less efficient than a direct key lookup.\n",
        "\n",
        "20. Explain the difference between a list and a dictionary in terms of data retrieval.\n",
        " - Lists are for ordered collections where you want to retrieve \"the Nth item,\" like List[1].\n",
        "  - while dictionaries are for unordered collections where you want to retrieve \"the item named X. eg, my_dict = {'name': 'Ajay', 'age': 29, 'city': 'Jaipur'} person_name = my_dict['name'] person_age = my_age['age']"
      ],
      "metadata": {
        "id": "u49PwsYwsE_d"
      }
    },
    {
      "cell_type": "markdown",
      "source": [
        "# Practical Questions\n"
      ],
      "metadata": {
        "id": "sxLeZQmh2-_C"
      }
    },
    {
      "cell_type": "code",
      "source": [
        "#1.Write a code to create a string with your name and print it.\n",
        "name = \"Ajay Singh\"\n",
        "print(name)"
      ],
      "metadata": {
        "colab": {
          "base_uri": "https://localhost:8080/"
        },
        "id": "U9HknvW_3dz1",
        "outputId": "6d8701dd-8e2e-4d85-cd71-bf452d391575"
      },
      "execution_count": 2,
      "outputs": [
        {
          "output_type": "stream",
          "name": "stdout",
          "text": [
            "Ajay Singh\n"
          ]
        }
      ]
    },
    {
      "cell_type": "code",
      "source": [
        "#2.Write a code to find the length of the string \"Hello World\".\n",
        "print(len(\"Hello World\"))"
      ],
      "metadata": {
        "colab": {
          "base_uri": "https://localhost:8080/"
        },
        "id": "WqaCQzTD3dyd",
        "outputId": "9c9b8e41-5ccf-46a8-de71-3162fbd80d66"
      },
      "execution_count": 3,
      "outputs": [
        {
          "output_type": "stream",
          "name": "stdout",
          "text": [
            "11\n"
          ]
        }
      ]
    },
    {
      "cell_type": "code",
      "source": [
        "#3.Write a code to slice the first 3 characters from the string \"Python Programming\".\n",
        "string = \"Python Programming\"\n",
        "sliced_string = string[:3]\n",
        "print(sliced_string)"
      ],
      "metadata": {
        "colab": {
          "base_uri": "https://localhost:8080/"
        },
        "id": "A8fWLaNA3dtO",
        "outputId": "b81c6157-55bd-4435-f827-ed64aad6c62a"
      },
      "execution_count": 4,
      "outputs": [
        {
          "output_type": "stream",
          "name": "stdout",
          "text": [
            "Pyt\n"
          ]
        }
      ]
    },
    {
      "cell_type": "code",
      "source": [
        "#4.Write a code to convert the string \"hello\" to uppercase.\n",
        "string=\"hello\"\n",
        "uprString = string.upper()\n",
        "print(uprString)"
      ],
      "metadata": {
        "colab": {
          "base_uri": "https://localhost:8080/"
        },
        "id": "zNs7FumX3dr8",
        "outputId": "c5cd0afc-b18b-4e52-a689-d4243020ca85"
      },
      "execution_count": 5,
      "outputs": [
        {
          "output_type": "stream",
          "name": "stdout",
          "text": [
            "HELLO\n"
          ]
        }
      ]
    },
    {
      "cell_type": "code",
      "source": [
        "#5.Write a code to replace the word \"apple\" with \"orange\" in the string \"I like apple\".\n",
        "String = \"I like apple\"\n",
        "repString = String.replace('apple', 'orange')\n",
        "print(repString)\n"
      ],
      "metadata": {
        "colab": {
          "base_uri": "https://localhost:8080/"
        },
        "id": "QwY1w6qA3dlo",
        "outputId": "536b3b92-dd5a-4391-9a7e-6bcaf6646fa1"
      },
      "execution_count": 6,
      "outputs": [
        {
          "output_type": "stream",
          "name": "stdout",
          "text": [
            "I like orange\n"
          ]
        }
      ]
    },
    {
      "cell_type": "code",
      "source": [
        "#6.Write a code to create a list with numbers 1 to 5 and print it.\n",
        "numList= [1,2,3,4,5]\n",
        "print(numList)"
      ],
      "metadata": {
        "colab": {
          "base_uri": "https://localhost:8080/"
        },
        "id": "myG0xfZR3dkT",
        "outputId": "4cad8cd6-ad7a-41f2-ce1b-fc0cfe747c31"
      },
      "execution_count": 7,
      "outputs": [
        {
          "output_type": "stream",
          "name": "stdout",
          "text": [
            "[1, 2, 3, 4, 5]\n"
          ]
        }
      ]
    },
    {
      "cell_type": "code",
      "source": [
        "#7.Write a code to append the number 10 to the list [1, 2, 3, 4].\n",
        "numList=[1, 2, 3, 4]\n",
        "numList.append(10)\n",
        "print(numList)"
      ],
      "metadata": {
        "colab": {
          "base_uri": "https://localhost:8080/"
        },
        "id": "p0LN4yyg3det",
        "outputId": "9a6674f3-0a1c-45a8-aa50-0c353affeb32"
      },
      "execution_count": 8,
      "outputs": [
        {
          "output_type": "stream",
          "name": "stdout",
          "text": [
            "[1, 2, 3, 4, 10]\n"
          ]
        }
      ]
    },
    {
      "cell_type": "code",
      "source": [
        "#8.Write a code to remove the number 3 from the list [1, 2, 3, 4, 5].\n",
        "nulList= [1, 2, 3, 4, 5]\n",
        "nulList.remove(3)\n",
        "print(nulList)"
      ],
      "metadata": {
        "colab": {
          "base_uri": "https://localhost:8080/"
        },
        "id": "N0JhDGdJ3ddW",
        "outputId": "c4bb967c-ceee-48bf-d48a-d8eadd6b4a43"
      },
      "execution_count": 9,
      "outputs": [
        {
          "output_type": "stream",
          "name": "stdout",
          "text": [
            "[1, 2, 4, 5]\n"
          ]
        }
      ]
    },
    {
      "cell_type": "code",
      "source": [
        "#9.Write a code to access the second element in the list ['a', 'b', 'c', 'd'].\n",
        "alphList=['a', 'b', 'c', 'd']\n",
        "print(alphList[1])"
      ],
      "metadata": {
        "colab": {
          "base_uri": "https://localhost:8080/"
        },
        "id": "71aIOsrQ3dYW",
        "outputId": "e7dc4a06-c06b-4f02-dae0-f4abab6345c3"
      },
      "execution_count": 10,
      "outputs": [
        {
          "output_type": "stream",
          "name": "stdout",
          "text": [
            "b\n"
          ]
        }
      ]
    },
    {
      "cell_type": "code",
      "source": [
        "#10.Write a code to reverse the list [10, 20, 30, 40, 50].\n",
        "numList=[10, 20, 30, 40, 50]\n",
        "print(numList[::-1])"
      ],
      "metadata": {
        "colab": {
          "base_uri": "https://localhost:8080/"
        },
        "id": "ovVL6is93dXI",
        "outputId": "638965e5-7916-4da0-b397-07c6029e96bb"
      },
      "execution_count": 11,
      "outputs": [
        {
          "output_type": "stream",
          "name": "stdout",
          "text": [
            "[50, 40, 30, 20, 10]\n"
          ]
        }
      ]
    },
    {
      "cell_type": "code",
      "source": [
        "#11. Write a code to create a tuple with the elements 100, 200, 300 and print it.\n",
        "fisrtTuple = (100,200,300)\n",
        "print(fisrtTuple)"
      ],
      "metadata": {
        "colab": {
          "base_uri": "https://localhost:8080/"
        },
        "id": "CPaQhY2P3dSo",
        "outputId": "8753d6a3-5f25-4a5d-9584-7d301077cf7d"
      },
      "execution_count": 12,
      "outputs": [
        {
          "output_type": "stream",
          "name": "stdout",
          "text": [
            "(100, 200, 300)\n"
          ]
        }
      ]
    },
    {
      "cell_type": "code",
      "source": [
        "#12.Write a code to access the second-to-last element of the tuple ('red', 'green', 'blue', 'yellow').\n",
        "colTuple = ('red', 'green', 'blue', 'yellow')\n",
        "print(colTuple[-2])\n",
        ""
      ],
      "metadata": {
        "colab": {
          "base_uri": "https://localhost:8080/"
        },
        "id": "cB0rbsNO3dRP",
        "outputId": "84791bf0-485c-4597-b7fc-332c6059b712"
      },
      "execution_count": 13,
      "outputs": [
        {
          "output_type": "stream",
          "name": "stdout",
          "text": [
            "blue\n"
          ]
        }
      ]
    },
    {
      "cell_type": "code",
      "source": [
        "#13. Write a code to find the minimum number in the tuple (10, 20, 5, 15).\n",
        "numTuple = (10, 20, 5, 15)\n",
        "print(min(numTuple))\n",
        ""
      ],
      "metadata": {
        "colab": {
          "base_uri": "https://localhost:8080/"
        },
        "id": "hNAEYn1H3dNF",
        "outputId": "41067b2f-9942-4c3d-cb54-27ee642ffe81"
      },
      "execution_count": 15,
      "outputs": [
        {
          "output_type": "stream",
          "name": "stdout",
          "text": [
            "5\n"
          ]
        }
      ]
    },
    {
      "cell_type": "code",
      "source": [
        "#14.Write a code to find the index of the element \"cat\" in the tuple ('dog', 'cat', 'rabbit').\n",
        "aniTuple = ('dog', 'cat', 'rabbit')\n",
        "print(aniTuple.index('cat'))"
      ],
      "metadata": {
        "colab": {
          "base_uri": "https://localhost:8080/"
        },
        "id": "DTM_SCom3dL4",
        "outputId": "30e13560-cd3e-4b68-dfb3-37f8867e179b"
      },
      "execution_count": 16,
      "outputs": [
        {
          "output_type": "stream",
          "name": "stdout",
          "text": [
            "1\n"
          ]
        }
      ]
    },
    {
      "cell_type": "code",
      "source": [
        "#15. Write a code to create a tuple containing three different fruits and check if \"kiwi\" is in it.\n",
        "fruTuple = ('Apple','mango','kiwi')\n",
        "ifKiwi= 'kiwi' in fruTuple\n",
        "print(ifKiwi)"
      ],
      "metadata": {
        "colab": {
          "base_uri": "https://localhost:8080/"
        },
        "id": "adJwiczo3dHq",
        "outputId": "13ec09f6-d993-469e-ad88-69a747f0b933"
      },
      "execution_count": 17,
      "outputs": [
        {
          "output_type": "stream",
          "name": "stdout",
          "text": [
            "True\n"
          ]
        }
      ]
    },
    {
      "cell_type": "code",
      "source": [
        "#16.Write a code to create a set with the elements 'a', 'b', 'c' and print it.\n",
        "alphSet = {'a','b','c'}\n",
        "print(alphSet)"
      ],
      "metadata": {
        "colab": {
          "base_uri": "https://localhost:8080/"
        },
        "id": "3gKFgC9V3dGe",
        "outputId": "c880cb6f-72c5-412b-f37c-9bd7cc07162e"
      },
      "execution_count": 18,
      "outputs": [
        {
          "output_type": "stream",
          "name": "stdout",
          "text": [
            "{'a', 'c', 'b'}\n"
          ]
        }
      ]
    },
    {
      "cell_type": "code",
      "source": [
        "#17.Write a code to clear all elements from the set {1, 2, 3, 4, 5}.\n",
        "alphSet =  {1, 2, 3, 4, 5}\n",
        "clearSet = alphSet.clear()\n",
        "print(clearSet)"
      ],
      "metadata": {
        "colab": {
          "base_uri": "https://localhost:8080/"
        },
        "id": "KuUwn-7M3dB7",
        "outputId": "57bd1313-e95c-43e2-c3f1-d4ffb813af37"
      },
      "execution_count": 19,
      "outputs": [
        {
          "output_type": "stream",
          "name": "stdout",
          "text": [
            "None\n"
          ]
        }
      ]
    },
    {
      "cell_type": "code",
      "source": [
        "#18.Write a code to remove the element 4 from the set {1, 2, 3, 4}\n",
        "alphaSet = {1, 2, 3, 4}\n",
        "remSet= alphaSet.remove(4)\n",
        "print(alphaSet)"
      ],
      "metadata": {
        "colab": {
          "base_uri": "https://localhost:8080/"
        },
        "id": "hZaufAWv3dAv",
        "outputId": "76e6e37a-df27-4ce4-f81f-1dd633c0589a"
      },
      "execution_count": 20,
      "outputs": [
        {
          "output_type": "stream",
          "name": "stdout",
          "text": [
            "{1, 2, 3}\n"
          ]
        }
      ]
    },
    {
      "cell_type": "code",
      "source": [
        "#19.Write a code to find the union of two sets {1, 2, 3} and {3, 4, 5}.\n",
        "set1 = {1, 2, 3}\n",
        "set2 = {3, 4, 5}\n",
        "setUnion = set1.union(set2)\n",
        "print(setUnion)"
      ],
      "metadata": {
        "colab": {
          "base_uri": "https://localhost:8080/"
        },
        "id": "T_tKPrNQ3c8L",
        "outputId": "a1dc9048-4c12-444d-9188-d0cbec3e1240"
      },
      "execution_count": 21,
      "outputs": [
        {
          "output_type": "stream",
          "name": "stdout",
          "text": [
            "{1, 2, 3, 4, 5}\n"
          ]
        }
      ]
    },
    {
      "cell_type": "code",
      "source": [
        "#20.Write a code to find the intersection of two sets {1, 2, 3} and {2, 3, 4}.\n",
        "set1 = {1, 2, 3}\n",
        "set2 = {3, 4, 5}\n",
        "setIntersect= set1.intersection(set2)\n",
        "print(setIntersect)\n",
        ""
      ],
      "metadata": {
        "colab": {
          "base_uri": "https://localhost:8080/"
        },
        "id": "Fj_bexYR7qPD",
        "outputId": "0b008092-ac49-403f-9f3a-6ef60941d916"
      },
      "execution_count": 24,
      "outputs": [
        {
          "output_type": "stream",
          "name": "stdout",
          "text": [
            "{3}\n"
          ]
        }
      ]
    },
    {
      "cell_type": "code",
      "source": [
        "#21.Write a code to create a dictionary with the keys \"name\", \"age\", and \"city\", and print it.\n",
        "perDict = {'name':'Ajay', 'age':'29', 'city':'Jaipur'}\n",
        "print(perDict)"
      ],
      "metadata": {
        "colab": {
          "base_uri": "https://localhost:8080/"
        },
        "id": "OeYUEw_z7qNb",
        "outputId": "52d2113f-93b0-4eda-ce35-5a6921361414"
      },
      "execution_count": 25,
      "outputs": [
        {
          "output_type": "stream",
          "name": "stdout",
          "text": [
            "{'name': 'Ajay', 'age': '29', 'city': 'Jaipur'}\n"
          ]
        }
      ]
    },
    {
      "cell_type": "code",
      "source": [
        "#22.Write a code to add a new key-value pair \"country\": \"USA\" to the dictionary {'name': 'John', 'age': 25}\n",
        "perDict = {'name':'John', 'age':'29', 'city':'USA'}\n",
        "perDict['Country']='India'\n",
        "print(perDict)"
      ],
      "metadata": {
        "colab": {
          "base_uri": "https://localhost:8080/"
        },
        "id": "f0IeHnhG7qJU",
        "outputId": "03815f91-f322-4b47-e807-637430b44ccb"
      },
      "execution_count": 31,
      "outputs": [
        {
          "output_type": "stream",
          "name": "stdout",
          "text": [
            "{'name': 'John', 'age': '29', 'city': 'USA', 'Country': 'India'}\n"
          ]
        }
      ]
    },
    {
      "cell_type": "code",
      "source": [
        "#23.Write a code to access the value associated with the key \"name\" in the dictionary {'name': 'Alice', 'age': 30}\n",
        "persDict = {'name': 'Alice', 'age': 30}\n",
        "val = persDict['name']\n",
        "print(val)"
      ],
      "metadata": {
        "colab": {
          "base_uri": "https://localhost:8080/"
        },
        "id": "46tZIh8l7qH2",
        "outputId": "d32cb282-0650-4247-833b-fc47fa7719be"
      },
      "execution_count": 32,
      "outputs": [
        {
          "output_type": "stream",
          "name": "stdout",
          "text": [
            "Alice\n"
          ]
        }
      ]
    },
    {
      "cell_type": "code",
      "source": [
        "#24.Write a code to remove the key \"age\" from the dictionary {'name': 'Bob', 'age': 22, 'city': 'New York'}.\n",
        "bobdict = {'name': 'Bob', 'age': 22, 'city': 'New York'}\n",
        "remDic = bobdict.pop('age')\n",
        "print(remDic)\n",
        "print(bobdict)"
      ],
      "metadata": {
        "colab": {
          "base_uri": "https://localhost:8080/"
        },
        "id": "8By07SzS7qDz",
        "outputId": "87d4a284-72e0-4a6b-8fd5-4f29231338a2"
      },
      "execution_count": 33,
      "outputs": [
        {
          "output_type": "stream",
          "name": "stdout",
          "text": [
            "22\n",
            "{'name': 'Bob', 'city': 'New York'}\n"
          ]
        }
      ]
    },
    {
      "cell_type": "code",
      "source": [
        "#25. Write a code to check if the key \"city\" exists in the dictionary {'name': 'Alice', 'city': 'Paris'}\n",
        "nameDict = {'name': 'Alice', 'city': 'Paris'}\n",
        "doExist = 'city' in nameDict\n",
        "print(doExist)"
      ],
      "metadata": {
        "colab": {
          "base_uri": "https://localhost:8080/"
        },
        "id": "V-nx20qM7qCM",
        "outputId": "1d256f5a-314a-47eb-d130-a80e728a7463"
      },
      "execution_count": 34,
      "outputs": [
        {
          "output_type": "stream",
          "name": "stdout",
          "text": [
            "True\n"
          ]
        }
      ]
    },
    {
      "cell_type": "code",
      "source": [
        "#26.Write a code to create a list, a tuple, and a dictionary, and print them all.\n",
        "exList=['Jyoti','Kannu','Ruchi']\n",
        "exTuple=('Komal','Nayana','Priyanka')\n",
        "exDict={'Name':'Pooja','Age':'25','Relation':'wife'}\n",
        "print(exList)\n",
        "print(exTuple)\n",
        "print(exDict)"
      ],
      "metadata": {
        "colab": {
          "base_uri": "https://localhost:8080/"
        },
        "id": "jhYwY0277p9k",
        "outputId": "c4fdc603-74da-4d19-e9cd-5a5109bbfcd7"
      },
      "execution_count": 36,
      "outputs": [
        {
          "output_type": "stream",
          "name": "stdout",
          "text": [
            "['Jyoti', 'Kannu', 'Ruchi']\n",
            "('Komal', 'Nayana', 'Priyanka')\n",
            "{'Name': 'Pooja', 'Age': '25', 'Relation': 'wife'}\n"
          ]
        }
      ]
    },
    {
      "cell_type": "code",
      "source": [
        "#27.Write a code to create a list of 5 random numbers between 1 and 100, sort it in ascending order, and print the result.(replaced)\n",
        "import random\n",
        "\n",
        "# Create a list of 5 random numbers between 1 and 100\n",
        "random_numbers = random.sample(range(1, 101), 5)\n",
        "\n",
        "# Sort the list in ascending order\n",
        "random_numbers.sort()\n",
        "\n",
        "# Print the result\n",
        "print(random_numbers)\n"
      ],
      "metadata": {
        "colab": {
          "base_uri": "https://localhost:8080/"
        },
        "id": "yrknbngY7p8D",
        "outputId": "2762e85d-7ed1-4723-93cf-649263bab528"
      },
      "execution_count": 37,
      "outputs": [
        {
          "output_type": "stream",
          "name": "stdout",
          "text": [
            "[8, 9, 28, 61, 81]\n"
          ]
        }
      ]
    },
    {
      "cell_type": "code",
      "source": [
        "#28.Write a code to create a list with strings and print the element at the third index.\n",
        "strList=['Roopal','Nayana','Komal','Kannu','Khushali']\n",
        "thirdIndex=strList[4]\n",
        "print(thirdIndex)"
      ],
      "metadata": {
        "colab": {
          "base_uri": "https://localhost:8080/"
        },
        "id": "VQfBytO07p3E",
        "outputId": "6393864a-e096-4c31-a5d2-e65f41ef6090"
      },
      "execution_count": 40,
      "outputs": [
        {
          "output_type": "stream",
          "name": "stdout",
          "text": [
            "Khushali\n"
          ]
        }
      ]
    },
    {
      "cell_type": "code",
      "source": [
        "#29. Write a code to combine two dictionaries into one and print the result.\n",
        "Dict1={'Name':'Pooja','Age':'26','Relation':'wife'}\n",
        "Dict2={'MarriageDate':'25/03/2018'}\n",
        "combDict={**Dict1,**Dict2}\n",
        "print(combDict)"
      ],
      "metadata": {
        "colab": {
          "base_uri": "https://localhost:8080/"
        },
        "id": "3ZNspWLn7p1j",
        "outputId": "1130f859-4d37-4ce9-ec07-9cefa5b400a4"
      },
      "execution_count": 41,
      "outputs": [
        {
          "output_type": "stream",
          "name": "stdout",
          "text": [
            "{'Name': 'Pooja', 'Age': '26', 'Relation': 'wife', 'MarriageDate': '25/03/2018'}\n"
          ]
        }
      ]
    },
    {
      "cell_type": "code",
      "source": [
        "#30.Write a code to convert a list of strings into a set.\n",
        "string_list = [\"apple\", \"banana\", \"cherry\", \"apple\", \"banana\"]\n",
        "string_set = set(string_list)\n",
        "print(string_set)\n"
      ],
      "metadata": {
        "colab": {
          "base_uri": "https://localhost:8080/"
        },
        "id": "ipy2Ndum7pwu",
        "outputId": "55d6232a-768c-4fc5-b7ae-05b0c599bdf6"
      },
      "execution_count": 42,
      "outputs": [
        {
          "output_type": "stream",
          "name": "stdout",
          "text": [
            "{'banana', 'cherry', 'apple'}\n"
          ]
        }
      ]
    }
  ]
}